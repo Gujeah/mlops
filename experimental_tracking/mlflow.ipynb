{
 "cells": [
  {
   "cell_type": "code",
   "execution_count": 2,
   "id": "52c04155",
   "metadata": {},
   "outputs": [],
   "source": [
    "from mlflow.tracking import MlflowClient\n",
    "MLFLOW_TRACKING_URL=\"http://127.0.0.1:5000\"\n",
    "client=MlflowClient(MLFLOW_TRACKING_URL)"
   ]
  },
  {
   "cell_type": "code",
   "execution_count": 13,
   "id": "8605289f",
   "metadata": {},
   "outputs": [
    {
     "data": {
      "text/plain": [
       "[<Experiment: artifact_location='mlflow-artifacts:/390661077752712194', creation_time=1747662084372, experiment_id='390661077752712194', last_update_time=1747662084372, lifecycle_stage='active', name='Ethel cool experiment', tags={}>,\n",
       " <Experiment: artifact_location='mlflow-artifacts:/529620877340114925', creation_time=1747137757986, experiment_id='529620877340114925', last_update_time=1747137757986, lifecycle_stage='active', name='duration experiment', tags={}>,\n",
       " <Experiment: artifact_location='mlflow-artifacts:/0', creation_time=1747039168920, experiment_id='0', last_update_time=1747039168920, lifecycle_stage='active', name='Default', tags={}>]"
      ]
     },
     "execution_count": 13,
     "metadata": {},
     "output_type": "execute_result"
    }
   ],
   "source": [
    "client.search_experiments()\n"
   ]
  },
  {
   "cell_type": "code",
   "execution_count": 7,
   "id": "2bb81ed0",
   "metadata": {},
   "outputs": [
    {
     "data": {
      "text/plain": [
       "'390661077752712194'"
      ]
     },
     "execution_count": 7,
     "metadata": {},
     "output_type": "execute_result"
    }
   ],
   "source": [
    "client.create_experiment(name=\"Ethel cool experiment\")"
   ]
  },
  {
   "cell_type": "code",
   "execution_count": 9,
   "id": "60fce289",
   "metadata": {},
   "outputs": [
    {
     "data": {
      "text/plain": [
       "<bound method MlflowClient.get_registered_model of <mlflow.tracking.client.MlflowClient object at 0x7946745d61e0>>"
      ]
     },
     "execution_count": 9,
     "metadata": {},
     "output_type": "execute_result"
    }
   ],
   "source": [
    "client.get_registered_model"
   ]
  },
  {
   "cell_type": "code",
   "execution_count": null,
   "id": "2da46fa5",
   "metadata": {},
   "outputs": [
    {
     "name": "stdout",
     "output_type": "stream",
     "text": [
      "version: 1, stage: None\n"
     ]
    },
    {
     "name": "stderr",
     "output_type": "stream",
     "text": [
      "/tmp/ipykernel_12922/1699745773.py:2: FutureWarning: ``mlflow.tracking.client.MlflowClient.get_latest_versions`` is deprecated since 2.9.0. Model registry stages will be removed in a future major release. To learn more about the deprecation of model registry stages, see our migration guide here: https://mlflow.org/docs/latest/model-registry.html#migrating-from-stages\n",
      "  latest_version=client.get_latest_versions(name=model_name)\n"
     ]
    }
   ],
   "source": [
    "model_name=\"nyc-tax-model\"\n"
   ]
  },
  {
   "cell_type": "code",
   "execution_count": 12,
   "id": "0653b384",
   "metadata": {},
   "outputs": [
    {
     "name": "stdout",
     "output_type": "stream",
     "text": [
      "version: 1, stage: None\n"
     ]
    },
    {
     "name": "stderr",
     "output_type": "stream",
     "text": [
      "/tmp/ipykernel_12922/2641579346.py:1: FutureWarning: ``mlflow.tracking.client.MlflowClient.get_latest_versions`` is deprecated since 2.9.0. Model registry stages will be removed in a future major release. To learn more about the deprecation of model registry stages, see our migration guide here: https://mlflow.org/docs/latest/model-registry.html#migrating-from-stages\n",
      "  latest_version=client.get_latest_versions(name=model_name)\n"
     ]
    }
   ],
   "source": [
    "latest_version=client.get_latest_versions(name=model_name)\n",
    "for version in latest_version:\n",
    "    print(f\"version: {version.version}, stage: {version.current_stage}\")"
   ]
  },
  {
   "cell_type": "code",
   "execution_count": 15,
   "id": "fadbab57",
   "metadata": {},
   "outputs": [
    {
     "name": "stderr",
     "output_type": "stream",
     "text": [
      "/tmp/ipykernel_12922/1546415915.py:1: FutureWarning: ``mlflow.tracking.client.MlflowClient.transition_model_version_stage`` is deprecated since 2.9.0. Model registry stages will be removed in a future major release. To learn more about the deprecation of model registry stages, see our migration guide here: https://mlflow.org/docs/latest/model-registry.html#migrating-from-stages\n",
      "  client.transition_model_version_stage(\n"
     ]
    },
    {
     "data": {
      "text/plain": [
       "<ModelVersion: aliases=['ethel1'], creation_timestamp=1747645839927, current_stage='Staging', description='', last_updated_timestamp=1747663712678, name='nyc-tax-model', run_id='fcddffa903004dae85d50851818390ae', run_link='', source='mlflow-artifacts:/529620877340114925/fcddffa903004dae85d50851818390ae/artifacts/models_mlflow', status='READY', status_message=None, tags={'model': 'xgboostregressor'}, user_id='', version='1'>"
      ]
     },
     "execution_count": 15,
     "metadata": {},
     "output_type": "execute_result"
    }
   ],
   "source": [
    "client.transition_model_version_stage( \n",
    "\n",
    "name=model_name,\n",
    "version=1,\n",
    "stage=\"staging\",\n",
    "archive_existing_versions=False\n",
    ")"
   ]
  },
  {
   "cell_type": "code",
   "execution_count": null,
   "id": "71fb5c3f",
   "metadata": {},
   "outputs": [],
   "source": []
  },
  {
   "cell_type": "code",
   "execution_count": null,
   "id": "6690fc7e",
   "metadata": {},
   "outputs": [],
   "source": []
  },
  {
   "cell_type": "code",
   "execution_count": null,
   "id": "7a14e79e",
   "metadata": {},
   "outputs": [],
   "source": []
  },
  {
   "cell_type": "code",
   "execution_count": null,
   "id": "864e99e7",
   "metadata": {},
   "outputs": [],
   "source": []
  },
  {
   "cell_type": "code",
   "execution_count": null,
   "id": "95ff7f02",
   "metadata": {},
   "outputs": [],
   "source": []
  },
  {
   "cell_type": "code",
   "execution_count": null,
   "id": "bbbf9b1c",
   "metadata": {},
   "outputs": [],
   "source": []
  },
  {
   "cell_type": "code",
   "execution_count": null,
   "id": "44a4a128",
   "metadata": {},
   "outputs": [],
   "source": []
  }
 ],
 "metadata": {
  "kernelspec": {
   "display_name": "mlops-YYCOetdN",
   "language": "python",
   "name": "python3"
  },
  "language_info": {
   "codemirror_mode": {
    "name": "ipython",
    "version": 3
   },
   "file_extension": ".py",
   "mimetype": "text/x-python",
   "name": "python",
   "nbconvert_exporter": "python",
   "pygments_lexer": "ipython3",
   "version": "3.12.1"
  }
 },
 "nbformat": 4,
 "nbformat_minor": 5
}
